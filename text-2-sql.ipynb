{
 "cells": [
  {
   "cell_type": "markdown",
   "metadata": {},
   "source": [
    "## OPENAI TOKEN"
   ]
  },
  {
   "cell_type": "code",
   "execution_count": 16,
   "metadata": {},
   "outputs": [
    {
     "name": "stdout",
     "output_type": "stream",
     "text": [
      "env: OPENAI_API_KEY=<OPENAI TOKEN>\n"
     ]
    }
   ],
   "source": [
    "%env OPENAI_API_KEY=<OPENAI TOKEN>"
   ]
  },
  {
   "cell_type": "markdown",
   "metadata": {},
   "source": [
    "## Set DB configuration"
   ]
  },
  {
   "cell_type": "code",
   "execution_count": 2,
   "metadata": {},
   "outputs": [],
   "source": [
    "DATABASE = \"postgres\"\n",
    "USER = \"postgres\"\n",
    "PASSWORD = \"pgpassword\"\n",
    "HOST = \"localhost\"\n",
    "PORT = \"5432\"\n",
    "\n",
    "DATABASE_URL = (\n",
    "    f\"postgresql+psycopg2://{USER}:{PASSWORD}@{HOST}:{PORT}/{DATABASE}\"\n",
    ")"
   ]
  },
  {
   "cell_type": "markdown",
   "metadata": {},
   "source": [
    "## Configure the SQL Agent"
   ]
  },
  {
   "cell_type": "code",
   "execution_count": 8,
   "metadata": {},
   "outputs": [],
   "source": [
    "from langchain import SQLDatabase\n",
    "from langchain.agents import initialize_agent\n",
    "from langchain.agents import AgentType\n",
    "from langchain.chat_models import ChatOpenAI\n",
    "from langchain.agents.agent_toolkits import SQLDatabaseToolkit\n",
    "from langchain.schema import SystemMessage\n",
    "\n",
    "\n",
    "db = SQLDatabase.from_uri(DATABASE_URL)\n",
    "toolkit = SQLDatabaseToolkit(llm=ChatOpenAI(temperature=0), db=db)\n",
    "\n",
    "agent_kwargs = {\n",
    "    \"system_message\": SystemMessage(content=\"You are an expert SQL data analyst.\")\n",
    "}\n",
    "\n",
    "llm = ChatOpenAI(temperature=0, model=\"gpt-3.5-turbo\")\n",
    "agent = initialize_agent(\n",
    "    toolkit.get_tools(),\n",
    "    llm,\n",
    "    agent=AgentType.OPENAI_FUNCTIONS,\n",
    "    verbose=True,\n",
    "    agent_kwargs=agent_kwargs,\n",
    ")"
   ]
  },
  {
   "cell_type": "markdown",
   "metadata": {},
   "source": [
    "## Testing"
   ]
  },
  {
   "cell_type": "code",
   "execution_count": 9,
   "metadata": {},
   "outputs": [
    {
     "name": "stdout",
     "output_type": "stream",
     "text": [
      "\n",
      "\n",
      "\u001b[1m> Entering new AgentExecutor chain...\u001b[0m\n",
      "\u001b[32;1m\u001b[1;3m\n",
      "Invoking: `sql_db_schema` with `transactions`\n",
      "\n",
      "\n",
      "\u001b[0m\u001b[33;1m\u001b[1;3m\n",
      "CREATE TABLE transactions (\n",
      "\tdate TEXT, \n",
      "\tsupplier TEXT, \n",
      "\tdescription TEXT, \n",
      "\tvalue BIGINT, \n",
      "\tclassification TEXT\n",
      ")\n",
      "\n",
      "/*\n",
      "3 rows from transactions table:\n",
      "date\tsupplier\tdescription\tvalue\tclassification\n",
      "15/08/2016\tCreative Video Productions Ltd\tKelvin Hall\t26866\tOther\n",
      "29/05/2017\tJohn Graham Construction Ltd\tCausewayside Refurbishment\t74806\tBuilding Improvement\n",
      "29/05/2017\tMorris & Spottiswood Ltd\tGeorge IV Bridge Work\t56448\tBuilding Improvement\n",
      "*/\u001b[0m\u001b[32;1m\u001b[1;3mThe table \"transactions\" has the following columns:\n",
      "\n",
      "1. date: TEXT\n",
      "2. supplier: TEXT\n",
      "3. description: TEXT\n",
      "4. value: BIGINT\n",
      "5. classification: TEXT\n",
      "\n",
      "Here are three sample rows from the \"transactions\" table:\n",
      "\n",
      "1. date: 15/08/2016, supplier: Creative Video Productions Ltd, description: Kelvin Hall, value: 26866, classification: Other\n",
      "2. date: 29/05/2017, supplier: John Graham Construction Ltd, description: Causewayside Refurbishment, value: 74806, classification: Building Improvement\n",
      "3. date: 29/05/2017, supplier: Morris & Spottiswood Ltd, description: George IV Bridge Work, value: 56448, classification: Building Improvement\u001b[0m\n",
      "\n",
      "\u001b[1m> Finished chain.\u001b[0m\n"
     ]
    },
    {
     "data": {
      "text/plain": [
       "'The table \"transactions\" has the following columns:\\n\\n1. date: TEXT\\n2. supplier: TEXT\\n3. description: TEXT\\n4. value: BIGINT\\n5. classification: TEXT\\n\\nHere are three sample rows from the \"transactions\" table:\\n\\n1. date: 15/08/2016, supplier: Creative Video Productions Ltd, description: Kelvin Hall, value: 26866, classification: Other\\n2. date: 29/05/2017, supplier: John Graham Construction Ltd, description: Causewayside Refurbishment, value: 74806, classification: Building Improvement\\n3. date: 29/05/2017, supplier: Morris & Spottiswood Ltd, description: George IV Bridge Work, value: 56448, classification: Building Improvement'"
      ]
     },
     "execution_count": 9,
     "metadata": {},
     "output_type": "execute_result"
    }
   ],
   "source": [
    "agent.run(\"Describe the table transactions\")"
   ]
  },
  {
   "cell_type": "code",
   "execution_count": 11,
   "metadata": {},
   "outputs": [
    {
     "name": "stdout",
     "output_type": "stream",
     "text": [
      "\n",
      "\n",
      "\u001b[1m> Entering new AgentExecutor chain...\u001b[0m\n",
      "\u001b[32;1m\u001b[1;3m\n",
      "Invoking: `sql_db_query` with `SELECT MAX(amount) AS highest_transaction FROM transactions`\n",
      "\n",
      "\n",
      "\u001b[0m\u001b[36;1m\u001b[1;3mError: (psycopg2.errors.UndefinedColumn) column \"amount\" does not exist\n",
      "LINE 1: SELECT MAX(amount) AS highest_transaction FROM transactions\n",
      "                   ^\n",
      "\n",
      "[SQL: SELECT MAX(amount) AS highest_transaction FROM transactions]\n",
      "(Background on this error at: https://sqlalche.me/e/20/f405)\u001b[0m\u001b[32;1m\u001b[1;3m\n",
      "Invoking: `sql_db_schema` with `transactions`\n",
      "\n",
      "\n",
      "\u001b[0m\u001b[33;1m\u001b[1;3m\n",
      "CREATE TABLE transactions (\n",
      "\tdate TEXT, \n",
      "\tsupplier TEXT, \n",
      "\tdescription TEXT, \n",
      "\tvalue BIGINT, \n",
      "\tclassification TEXT\n",
      ")\n",
      "\n",
      "/*\n",
      "3 rows from transactions table:\n",
      "date\tsupplier\tdescription\tvalue\tclassification\n",
      "15/08/2016\tCreative Video Productions Ltd\tKelvin Hall\t26866\tOther\n",
      "29/05/2017\tJohn Graham Construction Ltd\tCausewayside Refurbishment\t74806\tBuilding Improvement\n",
      "29/05/2017\tMorris & Spottiswood Ltd\tGeorge IV Bridge Work\t56448\tBuilding Improvement\n",
      "*/\u001b[0m\u001b[32;1m\u001b[1;3m\n",
      "Invoking: `sql_db_query` with `SELECT MAX(value) AS highest_transaction FROM transactions`\n",
      "\n",
      "\n",
      "\u001b[0m\u001b[36;1m\u001b[1;3m[(3422500,)]\u001b[0m\u001b[32;1m\u001b[1;3mThe highest value of a transaction is 3,422,500.\u001b[0m\n",
      "\n",
      "\u001b[1m> Finished chain.\u001b[0m\n"
     ]
    },
    {
     "data": {
      "text/plain": [
       "'The highest value of a transaction is 3,422,500.'"
      ]
     },
     "execution_count": 11,
     "metadata": {},
     "output_type": "execute_result"
    }
   ],
   "source": [
    "agent.run(\"what is the highest value of a transaction?\")"
   ]
  },
  {
   "cell_type": "code",
   "execution_count": 15,
   "metadata": {},
   "outputs": [
    {
     "name": "stdout",
     "output_type": "stream",
     "text": [
      "\n",
      "\n",
      "\u001b[1m> Entering new AgentExecutor chain...\u001b[0m\n",
      "\u001b[32;1m\u001b[1;3m\n",
      "Invoking: `sql_db_query` with `{'query': 'SELECT COUNT(*) AS total_transactions, SUM(value) AS total_value, AVG(value) AS average_value, MIN(value) AS min_value, MAX(value) AS max_value FROM transactions'}`\n",
      "\n",
      "\n",
      "\u001b[0m\u001b[36;1m\u001b[1;3m[(101, Decimal('13877908'), Decimal('137405.029702970297'), 26506, 3422500)]\u001b[0m\u001b[32;1m\u001b[1;3mThe statistics of the transaction's values are as follows:\n",
      "\n",
      "- Total number of transactions: 101\n",
      "- Total value of transactions: $13,877,908\n",
      "- Average value of transactions: $137,405.03\n",
      "- Minimum value of a transaction: $26,506\n",
      "- Maximum value of a transaction: $3,422,500\u001b[0m\n",
      "\n",
      "\u001b[1m> Finished chain.\u001b[0m\n"
     ]
    },
    {
     "data": {
      "text/plain": [
       "\"The statistics of the transaction's values are as follows:\\n\\n- Total number of transactions: 101\\n- Total value of transactions: $13,877,908\\n- Average value of transactions: $137,405.03\\n- Minimum value of a transaction: $26,506\\n- Maximum value of a transaction: $3,422,500\""
      ]
     },
     "execution_count": 15,
     "metadata": {},
     "output_type": "execute_result"
    }
   ],
   "source": [
    "agent.run(\"Could you give me the statistics of the transaction's values?\")"
   ]
  }
 ],
 "metadata": {
  "kernelspec": {
   "display_name": "Python 3",
   "language": "python",
   "name": "python3"
  },
  "language_info": {
   "codemirror_mode": {
    "name": "ipython",
    "version": 3
   },
   "file_extension": ".py",
   "mimetype": "text/x-python",
   "name": "python",
   "nbconvert_exporter": "python",
   "pygments_lexer": "ipython3",
   "version": "3.11.4"
  },
  "orig_nbformat": 4
 },
 "nbformat": 4,
 "nbformat_minor": 2
}
